{
 "cells": [
  {
   "cell_type": "code",
   "execution_count": 1,
   "metadata": {},
   "outputs": [],
   "source": [
    "import cv2\n",
    "import matplotlib.pyplot as plt \n",
    "import numpy as np"
   ]
  },
  {
   "cell_type": "code",
   "execution_count": 7,
   "metadata": {},
   "outputs": [
    {
     "name": "stdout",
     "output_type": "stream",
     "text": [
      "[[[276. 215.]]\n",
      "\n",
      " [[423. 215.]]\n",
      "\n",
      " [[276. 362.]]\n",
      "\n",
      " [[423. 362.]]]\n"
     ]
    }
   ],
   "source": [
    "lkparams = dict(winSize = (200,200),maxLevel=2,criteria=(cv2.TERM_CRITERIA_EPS | cv2.TERM_CRITERIA_COUNT , 10,0.03))\n",
    "cs = cv2.CascadeClassifier('DATA/haarcascades/haarcascade_frontalface_default.xml')\n",
    "cap = cv2.VideoCapture(0)\n",
    "ret,prevframe = cap.read()\n",
    "face = prevframe.copy()\n",
    "def detect(img):\n",
    "    face = img.copy()\n",
    "    rect = cs.detectMultiScale(face)\n",
    "   # print(rect.ravel())\n",
    "    for(x,y,w,h) in rect:\n",
    "        pp = [[[x,y]],[[x+w,y]],[[x,y+h]],[[x+w,y+h]]]\n",
    "        cv2.rectangle(face,(x,y),(x+w,y+h),(255,0,0),10)\n",
    "    return pp\n",
    "prev_gray = cv2.cvtColor(prevframe,cv2.COLOR_BGR2GRAY)\n",
    "prevp = detect(prevframe)\n",
    "prevpts = np.array(prevp,dtype= np.float32)\n",
    "print(prevpts)\n",
    "mask = np.zeros_like(prevframe)\n",
    "while True:\n",
    "    ret2, frame = cap.read() \n",
    "    frame_gray = cv2.cvtColor(frame,cv2.COLOR_BGR2GRAY)\n",
    "    nextpts,status,err = cv2.calcOpticalFlowPyrLK(prev_gray,frame_gray,prevpts,None,**lkparams)\n",
    "    good_new = nextpts[status==1]\n",
    "    good_prev = prevpts[status==1]\n",
    "    for i ,(new,prev ) in enumerate(zip(good_new,good_prev)):\n",
    "        x_new,y_new = new.ravel()\n",
    "        x_prev,y_prev = new.ravel()\n",
    "        mask = cv2.line(mask ,(x_new,y_new),(x_prev,y_prev),(0,0,255),6)\n",
    "        frame = cv2.circle(frame, (x_new,y_new),8,(0,255,0),-1)\n",
    "    img = cv2.add(frame,mask)\n",
    "    cv2.imshow('op',img)\n",
    "    prev_gray = frame_gray.copy()\n",
    "    prevpts = good_new.reshape(-1,1,2)\n",
    "    if cv2.waitKey(1) & 0XFF==27:\n",
    "        break\n",
    "cap.release()        \n",
    "cv2.destroyAllWindows() \n"
   ]
  },
  {
   "cell_type": "code",
   "execution_count": null,
   "metadata": {},
   "outputs": [],
   "source": []
  }
 ],
 "metadata": {
  "kernelspec": {
   "display_name": "Python 3",
   "language": "python",
   "name": "python3"
  },
  "language_info": {
   "codemirror_mode": {
    "name": "ipython",
    "version": 3
   },
   "file_extension": ".py",
   "mimetype": "text/x-python",
   "name": "python",
   "nbconvert_exporter": "python",
   "pygments_lexer": "ipython3",
   "version": "3.6.6"
  }
 },
 "nbformat": 4,
 "nbformat_minor": 2
}
